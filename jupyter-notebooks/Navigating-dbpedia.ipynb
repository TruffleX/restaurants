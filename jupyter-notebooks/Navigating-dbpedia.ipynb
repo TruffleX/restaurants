{
 "cells": [
  {
   "cell_type": "code",
   "execution_count": 107,
   "metadata": {},
   "outputs": [],
   "source": [
    "### Get all Hamburger Country of Origin\n",
    "query = \"\"\"\n",
    "PREFIX dbr: <http://dbpedia.org/resource/>\n",
    "PREFIX dbo: <http://dbpedia.org/ontology/>\n",
    "PREFIX dbp: <http://dbpedia.org/property/>\n",
    "\n",
    "SELECT * WHERE {\n",
    "    dbr:Hamburger dbo:country ?what\n",
    "\n",
    "}\"\"\"\n"
   ]
  },
  {
   "cell_type": "code",
   "execution_count": 106,
   "metadata": {},
   "outputs": [],
   "source": [
    "### What is a hamburger?\n",
    "query = \"\"\"\n",
    "PREFIX dbr: <http://dbpedia.org/resource/>\n",
    "PREFIX dbo: <http://dbpedia.org/ontology/>\n",
    "PREFIX dbp: <http://dbpedia.org/property/>\n",
    "\n",
    "SELECT * WHERE {\n",
    "    dbr:Hamburger dbo:type ?what\n",
    "\n",
    "}\"\"\"\n"
   ]
  },
  {
   "cell_type": "code",
   "execution_count": 105,
   "metadata": {},
   "outputs": [],
   "source": [
    "### Get other main courses\n",
    "query = \"\"\"\n",
    "PREFIX dbr: <http://dbpedia.org/resource/>\n",
    "PREFIX dbo: <http://dbpedia.org/ontology/>\n",
    "PREFIX dbp: <http://dbpedia.org/property/>\n",
    "PREFIX dct: <http://purl.org/dc/terms/>\n",
    "\n",
    "SELECT * WHERE {\n",
    "    ?what dbo:type dbr:Main_course\n",
    "}\"\"\"\n"
   ]
  },
  {
   "cell_type": "code",
   "execution_count": 104,
   "metadata": {},
   "outputs": [],
   "source": [
    "### Get other main courses\n",
    "query = \"\"\"\n",
    "PREFIX dbr: <http://dbpedia.org/resource/>\n",
    "PREFIX dbo: <http://dbpedia.org/ontology/>\n",
    "PREFIX dbp: <http://dbpedia.org/property/>\n",
    "PREFIX dct: <http://purl.org/dc/terms/>\n",
    "PREFIX dbc: <http://dbpedia.org/resource/Category:>\n",
    "\n",
    "SELECT * WHERE {\n",
    "    ?what dct:subject dbc:American_cuisine\n",
    "}\"\"\"\n"
   ]
  },
  {
   "cell_type": "code",
   "execution_count": 103,
   "metadata": {},
   "outputs": [],
   "source": [
    "### Get other main courses\n",
    "query = \"\"\"\n",
    "PREFIX dbr: <http://dbpedia.org/resource/>\n",
    "PREFIX dbo: <http://dbpedia.org/ontology/>\n",
    "PREFIX dbp: <http://dbpedia.org/property/>\n",
    "PREFIX dct: <http://purl.org/dc/terms/>\n",
    "PREFIX dbc: <http://dbpedia.org/resource/Category:>\n",
    "\n",
    "SELECT * WHERE {\n",
    "    ?what dct:subject dbc:American_cuisine\n",
    "}\n",
    "\"\"\"\n"
   ]
  },
  {
   "cell_type": "code",
   "execution_count": 102,
   "metadata": {},
   "outputs": [],
   "source": [
    "### Get other main courses\n",
    "query = \"\"\"\n",
    "PREFIX dbr: <http://dbpedia.org/resource/>\n",
    "PREFIX dbo: <http://dbpedia.org/ontology/>\n",
    "PREFIX dbp: <http://dbpedia.org/property/>\n",
    "PREFIX dct: <http://purl.org/dc/terms/>\n",
    "PREFIX dbc: <http://dbpedia.org/resource/Category:>\n",
    "\n",
    "SELECT * WHERE {\n",
    "    ?what dct:subject dbc:American_cuisine\n",
    "}\n",
    "LIMIT 10000 OFFSET 10000\n",
    "\"\"\""
   ]
  },
  {
   "cell_type": "code",
   "execution_count": 16,
   "metadata": {},
   "outputs": [],
   "source": [
    "from etl.dbpedia import DBPediaClient\n",
    "from db.dbclient import MongoClient\n",
    "\n",
    "dbpediaclient = DBPediaClient()\n",
    "ingredients = dbpediaclient.get(\"\"\"\n",
    "SELECT * WHERE {\n",
    "    ?what rdf:type dbo:Food.\n",
    "    ?what rdf:type owl:Thing.\n",
    "    ?what rdf:type wikidata:Q2095\n",
    "}\n",
    "\"\"\")\n",
    "from_key = lambda x: x['what']['value']\n",
    "from_url = lambda x: str(x).split('/')[-1]\n",
    "from_str = lambda x: x.replace(\"_\", \" \")\n",
    "getter = lambda x: from_key(x)\n",
    "\n",
    "labels = [getter(i) for i in ingredients]\n",
    "\n",
    "docs = []\n",
    "for i in labels:\n",
    "    docs.append({\"entity_type\": \"ingredient\", \"source\": 'dbpedia', 'value': from_url(from_str(i)), 'url': i})\n",
    "    \n",
    "mongo_client = MongoClient()\n",
    "collection = mongo_client.db.get_collection('knowledge')\n",
    "found_docs = [i for i in collection.find({})]\n",
    "known_values = [i['value'] for i in found_docs]\n",
    "for doc in docs:\n",
    "    if doc['value'] not in known_values:\n",
    "        collection.insert_one(doc)"
   ]
  }
 ],
 "metadata": {
  "kernelspec": {
   "display_name": "Python 3",
   "language": "python",
   "name": "python3"
  },
  "language_info": {
   "codemirror_mode": {
    "name": "ipython",
    "version": 3
   },
   "file_extension": ".py",
   "mimetype": "text/x-python",
   "name": "python",
   "nbconvert_exporter": "python",
   "pygments_lexer": "ipython3",
   "version": "3.6.2"
  }
 },
 "nbformat": 4,
 "nbformat_minor": 2
}
