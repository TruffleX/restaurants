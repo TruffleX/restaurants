{
 "cells": [
  {
   "cell_type": "code",
   "execution_count": 1,
   "metadata": {},
   "outputs": [],
   "source": [
    "import logging\n",
    "import os\n",
    "import pymongo\n",
    "from db.dbclient import Feed\n",
    "import spacy\n",
    "nlp = spacy.load('en')"
   ]
  },
  {
   "cell_type": "code",
   "execution_count": 2,
   "metadata": {},
   "outputs": [],
   "source": [
    "keywords = [\n",
    "    'restaurant', \n",
    "    'cuisine', \n",
    "    'cocktail', \n",
    "    'food',\n",
    "    'drink', \n",
    "    'meal',\n",
    "    'dinner',\n",
    "    'lunch',\n",
    "    'breakfast',\n",
    "    'brunch',\n",
    "    'bread',\n",
    "    'pasta', \n",
    "    'cheese',\n",
    "    'taco',\n",
    "    'burrito',\n",
    "    'hamburger',\n",
    "    'steak',\n",
    "    'sushi',\n",
    "    'pizza',\n",
    "]\n",
    "\n",
    "possibles = [\n",
    "    'bar',\n",
    "    'wine'\n",
    "]\n",
    "fields = [\n",
    "    'link',\n",
    "    'value',\n",
    "    'summary'\n",
    "]"
   ]
  },
  {
   "cell_type": "code",
   "execution_count": 4,
   "metadata": {},
   "outputs": [
    {
     "name": "stdout",
     "output_type": "stream",
     "text": [
      "Uploaded 0 new documents for https://www.cntraveler.com/feed/rss to db\n"
     ]
    }
   ],
   "source": [
    "CNFeed = Feed('https://www.cntraveler.com/feed/rss', 'cntraveler')\n",
    "CNFeed.update_db()"
   ]
  },
  {
   "cell_type": "code",
   "execution_count": 7,
   "metadata": {},
   "outputs": [
    {
     "name": "stdout",
     "output_type": "stream",
     "text": [
      "Uploaded 0 new documents for http://www.latimes.com/food/rss2.0.xml to db\n"
     ]
    }
   ],
   "source": [
    "LATimesFeed = Feed('http://www.latimes.com/food/rss2.0.xml', 'LATimes')\n",
    "LATimesFeed.update_db()"
   ]
  },
  {
   "cell_type": "code",
   "execution_count": null,
   "metadata": {},
   "outputs": [],
   "source": []
  },
  {
   "cell_type": "code",
   "execution_count": 30,
   "metadata": {},
   "outputs": [],
   "source": [
    "def food_entries():\n",
    "    entries = ((entry['summary'], entry) for entry in CNFeed.client.collection.find({}))\n",
    "    for doc, entry in nlp.pipe(entries, disable=['parser','tagger'], as_tuples=True):\n",
    "        for word in doc:\n",
    "            if word.norm_ in keywords:\n",
    "                yield entry\n",
    "                break\n",
    "                \n",
    "                \n",
    "\n",
    "\n",
    "                \n",
    "        \n",
    "        "
   ]
  },
  {
   "cell_type": "code",
   "execution_count": 33,
   "metadata": {},
   "outputs": [
    {
     "name": "stdout",
     "output_type": "stream",
     "text": [
      "https://www.cntraveler.com/gallery/best-seafood-restaurants-in-charleston\n",
      "https://www.cntraveler.com/gallery/best-restaurants-in-charleston\n",
      "https://www.cntraveler.com/story/death-and-cos-arrival-may-turn-denver-into-a-cocktail-city\n",
      "https://www.cntraveler.com/gallery/best-rooftop-bars-in-charleston\n",
      "https://www.cntraveler.com/gallery/best-bars-in-charleston\n",
      "https://www.cntraveler.com/story/nycs-latest-pop-up-museum-is-dedicated-to-pizza\n"
     ]
    }
   ],
   "source": [
    "for i in map(lambda x: x['link'], food_entries()):\n",
    "    print(i)"
   ]
  },
  {
   "cell_type": "code",
   "execution_count": null,
   "metadata": {},
   "outputs": [],
   "source": []
  },
  {
   "cell_type": "code",
   "execution_count": null,
   "metadata": {},
   "outputs": [],
   "source": []
  }
 ],
 "metadata": {
  "kernelspec": {
   "display_name": "Python 3",
   "language": "python",
   "name": "python3"
  },
  "language_info": {
   "codemirror_mode": {
    "name": "ipython",
    "version": 3
   },
   "file_extension": ".py",
   "mimetype": "text/x-python",
   "name": "python",
   "nbconvert_exporter": "python",
   "pygments_lexer": "ipython3",
   "version": "3.6.2"
  }
 },
 "nbformat": 4,
 "nbformat_minor": 2
}
